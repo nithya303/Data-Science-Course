{
 "cells": [
  {
   "cell_type": "markdown",
   "id": "6808e939-2d1b-48b0-9c76-6702a8ef2f7c",
   "metadata": {},
   "source": [
    "# Data Science Tools and Ecosystem"
   ]
  },
  {
   "cell_type": "markdown",
   "id": "8f1c1925-a6c9-4a3d-a27b-3b4ad5caf7c5",
   "metadata": {
    "tags": []
   },
   "source": [
    "In this notebook we will go over the basic Data Science Tools and Ecosystem skills."
   ]
  },
  {
   "cell_type": "markdown",
   "id": "3789de6f-77d6-456f-9518-25996d84f9d4",
   "metadata": {
    "tags": []
   },
   "source": [
    "### Some of the popular languages that Data Scientists use are:\n",
    "1) Python\n",
    "2) SQL\n",
    "3) R"
   ]
  },
  {
   "cell_type": "markdown",
   "id": "09c982a2-56f9-41c2-a8f0-e083244fb4a7",
   "metadata": {
    "tags": []
   },
   "source": [
    "### Some of the commonly used libraries used by Data Scientists include:\n",
    "1) Matplotlib\n",
    "2) Pandas\n",
    "3) Numpy"
   ]
  },
  {
   "cell_type": "markdown",
   "id": "bc9c3821-fd47-4a68-9747-7e27cf71bd57",
   "metadata": {
    "tags": []
   },
   "source": [
    "| Data Science Tools |\n",
    "|------|\n",
    "|   Jupyter Notebooks |\n",
    "| VSCode |\n",
    "| RStudio | "
   ]
  },
  {
   "cell_type": "markdown",
   "id": "d550a21f-cf56-42e8-9cce-8ed21c50a519",
   "metadata": {},
   "source": [
    "### Below are a few examples of evaluating arithmetic expressions in Python"
   ]
  },
  {
   "cell_type": "code",
   "execution_count": 19,
   "id": "873f6e74-034f-4f24-87b1-9019744b8806",
   "metadata": {
    "tags": []
   },
   "outputs": [
    {
     "name": "stdout",
     "output_type": "stream",
     "text": [
      "3\n"
     ]
    }
   ],
   "source": [
    "result_1 = 1 + 2\n",
    "print(result_1)"
   ]
  },
  {
   "cell_type": "code",
   "execution_count": 20,
   "id": "8a6d22b1-872d-425a-b665-dd065683d31f",
   "metadata": {
    "tags": []
   },
   "outputs": [
    {
     "name": "stdout",
     "output_type": "stream",
     "text": [
      "-5\n"
     ]
    }
   ],
   "source": [
    "result_2 = 3 - 8\n",
    "print(result_2)"
   ]
  },
  {
   "cell_type": "code",
   "execution_count": 21,
   "id": "be40946e-73b3-40c5-9753-0ffd6d3435d5",
   "metadata": {
    "tags": []
   },
   "outputs": [
    {
     "name": "stdout",
     "output_type": "stream",
     "text": [
      "30\n"
     ]
    }
   ],
   "source": [
    "result_3 = 5 * 6\n",
    "print(result_3)"
   ]
  },
  {
   "cell_type": "code",
   "execution_count": 22,
   "id": "16221701-d838-4696-b7c2-e9323b08261c",
   "metadata": {
    "tags": []
   },
   "outputs": [],
   "source": [
    "# This a simple arithmetic expression to mutiply then add integers"
   ]
  },
  {
   "cell_type": "code",
   "execution_count": 23,
   "id": "f728b9e5-2aa2-47b8-8cf0-f756dee5e71b",
   "metadata": {
    "tags": []
   },
   "outputs": [
    {
     "name": "stdout",
     "output_type": "stream",
     "text": [
      "17\n"
     ]
    }
   ],
   "source": [
    "result_4 = (3*4)+5\n",
    "print(result_4)"
   ]
  },
  {
   "cell_type": "code",
   "execution_count": 24,
   "id": "53db9bbf-890c-4ac9-a1f6-67c5e740c00c",
   "metadata": {
    "tags": []
   },
   "outputs": [],
   "source": [
    "#This will convert 200 minutes to hours by diving by 60"
   ]
  },
  {
   "cell_type": "code",
   "execution_count": 25,
   "id": "dd46a471-f8b9-42d0-a739-f1dec72c9d0a",
   "metadata": {
    "tags": []
   },
   "outputs": [
    {
     "name": "stdout",
     "output_type": "stream",
     "text": [
      "3\n"
     ]
    }
   ],
   "source": [
    "convert_min = round(200 / 60)\n",
    "print(convert_min)"
   ]
  },
  {
   "cell_type": "markdown",
   "id": "f04dd565-d2ff-4f23-99e1-718ef0f7e069",
   "metadata": {
    "tags": []
   },
   "source": [
    "**Objectives**\n",
    "* List popular languages for Data Science\n",
    "* List of commonly used libraries for Data Science\n",
    "* Table of Data Science Tools\n",
    "* A few examples of evaluating arithmetic expressions"
   ]
  },
  {
   "cell_type": "markdown",
   "id": "01980b9c-1871-4eb6-8876-7e3604127da4",
   "metadata": {},
   "source": [
    "## Author\n",
    "Nithya Nalluri"
   ]
  }
 ],
 "metadata": {
  "kernelspec": {
   "display_name": "Python",
   "language": "python",
   "name": "conda-env-python-py"
  },
  "language_info": {
   "codemirror_mode": {
    "name": "ipython",
    "version": 3
   },
   "file_extension": ".py",
   "mimetype": "text/x-python",
   "name": "python",
   "nbconvert_exporter": "python",
   "pygments_lexer": "ipython3",
   "version": "3.7.12"
  }
 },
 "nbformat": 4,
 "nbformat_minor": 5
}
